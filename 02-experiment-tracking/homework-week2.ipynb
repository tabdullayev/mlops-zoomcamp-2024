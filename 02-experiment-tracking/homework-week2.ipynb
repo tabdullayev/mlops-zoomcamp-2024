{
 "cells": [
  {
   "cell_type": "markdown",
   "id": "fced5c01-d179-4802-b5e1-2e7ebffad74d",
   "metadata": {},
   "source": [
    "### Q1. Install MLflow"
   ]
  },
  {
   "cell_type": "code",
   "execution_count": 2,
   "id": "c12081c5-5b9b-4415-9379-455d6ba63e42",
   "metadata": {},
   "outputs": [
    {
     "name": "stdout",
     "output_type": "stream",
     "text": [
      "Requirement already satisfied: mlflow in /home/codespace/anaconda3/lib/python3.9/site-packages (2.13.0)\n",
      "Requirement already satisfied: cloudpickle<4 in /home/codespace/anaconda3/lib/python3.9/site-packages (from mlflow) (2.0.0)\n",
      "Requirement already satisfied: opentelemetry-api<3,>=1.0.0 in /home/codespace/anaconda3/lib/python3.9/site-packages (from mlflow) (1.24.0)\n",
      "Requirement already satisfied: gunicorn<23 in /home/codespace/anaconda3/lib/python3.9/site-packages (from mlflow) (22.0.0)\n",
      "Requirement already satisfied: gitpython<4,>=3.1.9 in /home/codespace/anaconda3/lib/python3.9/site-packages (from mlflow) (3.1.43)\n",
      "Requirement already satisfied: scipy<2 in /home/codespace/anaconda3/lib/python3.9/site-packages (from mlflow) (1.7.3)\n",
      "Requirement already satisfied: click<9,>=7.0 in /home/codespace/anaconda3/lib/python3.9/site-packages (from mlflow) (8.0.4)\n",
      "Requirement already satisfied: importlib-metadata!=4.7.0,<8,>=3.7.0 in /home/codespace/anaconda3/lib/python3.9/site-packages (from mlflow) (7.0.0)\n",
      "Requirement already satisfied: cachetools<6,>=5.0.0 in /home/codespace/anaconda3/lib/python3.9/site-packages (from mlflow) (5.3.3)\n",
      "Requirement already satisfied: requests<3,>=2.17.3 in /home/codespace/anaconda3/lib/python3.9/site-packages (from mlflow) (2.27.1)\n",
      "Requirement already satisfied: scikit-learn<2 in /home/codespace/anaconda3/lib/python3.9/site-packages (from mlflow) (1.0.2)\n",
      "Requirement already satisfied: querystring-parser<2 in /home/codespace/anaconda3/lib/python3.9/site-packages (from mlflow) (1.2.4)\n",
      "Requirement already satisfied: protobuf<5,>=3.12.0 in /home/codespace/anaconda3/lib/python3.9/site-packages (from mlflow) (3.19.1)\n",
      "Requirement already satisfied: pytz<2025 in /home/codespace/anaconda3/lib/python3.9/site-packages (from mlflow) (2021.3)\n",
      "Requirement already satisfied: markdown<4,>=3.3 in /home/codespace/anaconda3/lib/python3.9/site-packages (from mlflow) (3.3.4)\n",
      "Requirement already satisfied: sqlparse<1,>=0.4.0 in /home/codespace/anaconda3/lib/python3.9/site-packages (from mlflow) (0.5.0)\n",
      "Requirement already satisfied: docker<8,>=4.0.0 in /home/codespace/anaconda3/lib/python3.9/site-packages (from mlflow) (7.1.0)\n",
      "Requirement already satisfied: numpy<2 in /home/codespace/anaconda3/lib/python3.9/site-packages (from mlflow) (1.21.5)\n",
      "Requirement already satisfied: entrypoints<1 in /home/codespace/anaconda3/lib/python3.9/site-packages (from mlflow) (0.4)\n",
      "Requirement already satisfied: matplotlib<4 in /home/codespace/anaconda3/lib/python3.9/site-packages (from mlflow) (3.5.1)\n",
      "Requirement already satisfied: packaging<25 in /home/codespace/anaconda3/lib/python3.9/site-packages (from mlflow) (21.3)\n",
      "Requirement already satisfied: sqlalchemy<3,>=1.4.0 in /home/codespace/anaconda3/lib/python3.9/site-packages (from mlflow) (1.4.32)\n",
      "Requirement already satisfied: alembic!=1.10.0,<2 in /home/codespace/anaconda3/lib/python3.9/site-packages (from mlflow) (1.13.1)\n",
      "Requirement already satisfied: pyyaml<7,>=5.1 in /home/codespace/anaconda3/lib/python3.9/site-packages (from mlflow) (6.0)\n",
      "Requirement already satisfied: Jinja2<4,>=2.11 in /home/codespace/anaconda3/lib/python3.9/site-packages (from mlflow) (2.11.3)\n",
      "Requirement already satisfied: Flask<4 in /home/codespace/anaconda3/lib/python3.9/site-packages (from mlflow) (1.1.2)\n",
      "Requirement already satisfied: pandas<3 in /home/codespace/anaconda3/lib/python3.9/site-packages (from mlflow) (1.4.2)\n",
      "Requirement already satisfied: graphene<4 in /home/codespace/anaconda3/lib/python3.9/site-packages (from mlflow) (3.3)\n",
      "Requirement already satisfied: pyarrow<16,>=4.0.0 in /home/codespace/anaconda3/lib/python3.9/site-packages (from mlflow) (15.0.2)\n",
      "Requirement already satisfied: opentelemetry-sdk<3,>=1.0.0 in /home/codespace/anaconda3/lib/python3.9/site-packages (from mlflow) (1.24.0)\n",
      "Requirement already satisfied: typing-extensions>=4 in /home/codespace/anaconda3/lib/python3.9/site-packages (from alembic!=1.10.0,<2->mlflow) (4.1.1)\n",
      "Requirement already satisfied: Mako in /home/codespace/anaconda3/lib/python3.9/site-packages (from alembic!=1.10.0,<2->mlflow) (1.3.5)\n",
      "Requirement already satisfied: urllib3>=1.26.0 in /home/codespace/anaconda3/lib/python3.9/site-packages (from docker<8,>=4.0.0->mlflow) (1.26.9)\n",
      "Requirement already satisfied: itsdangerous>=0.24 in /home/codespace/anaconda3/lib/python3.9/site-packages (from Flask<4->mlflow) (2.0.1)\n",
      "Requirement already satisfied: Werkzeug>=0.15 in /home/codespace/anaconda3/lib/python3.9/site-packages (from Flask<4->mlflow) (2.0.3)\n",
      "Requirement already satisfied: gitdb<5,>=4.0.1 in /home/codespace/anaconda3/lib/python3.9/site-packages (from gitpython<4,>=3.1.9->mlflow) (4.0.11)\n",
      "Requirement already satisfied: smmap<6,>=3.0.1 in /home/codespace/anaconda3/lib/python3.9/site-packages (from gitdb<5,>=4.0.1->gitpython<4,>=3.1.9->mlflow) (5.0.1)\n",
      "Requirement already satisfied: aniso8601<10,>=8 in /home/codespace/anaconda3/lib/python3.9/site-packages (from graphene<4->mlflow) (9.0.1)\n",
      "Requirement already satisfied: graphql-core<3.3,>=3.1 in /home/codespace/anaconda3/lib/python3.9/site-packages (from graphene<4->mlflow) (3.2.3)\n",
      "Requirement already satisfied: graphql-relay<3.3,>=3.1 in /home/codespace/anaconda3/lib/python3.9/site-packages (from graphene<4->mlflow) (3.2.0)\n",
      "Requirement already satisfied: zipp>=0.5 in /home/codespace/anaconda3/lib/python3.9/site-packages (from importlib-metadata!=4.7.0,<8,>=3.7.0->mlflow) (3.7.0)\n",
      "Requirement already satisfied: MarkupSafe>=0.23 in /home/codespace/anaconda3/lib/python3.9/site-packages (from Jinja2<4,>=2.11->mlflow) (2.0.1)\n",
      "Requirement already satisfied: pyparsing>=2.2.1 in /home/codespace/anaconda3/lib/python3.9/site-packages (from matplotlib<4->mlflow) (3.0.4)\n",
      "Requirement already satisfied: pillow>=6.2.0 in /home/codespace/anaconda3/lib/python3.9/site-packages (from matplotlib<4->mlflow) (9.0.1)\n",
      "Requirement already satisfied: fonttools>=4.22.0 in /home/codespace/anaconda3/lib/python3.9/site-packages (from matplotlib<4->mlflow) (4.25.0)\n",
      "Requirement already satisfied: cycler>=0.10 in /home/codespace/anaconda3/lib/python3.9/site-packages (from matplotlib<4->mlflow) (0.11.0)\n",
      "Requirement already satisfied: kiwisolver>=1.0.1 in /home/codespace/anaconda3/lib/python3.9/site-packages (from matplotlib<4->mlflow) (1.3.2)\n",
      "Requirement already satisfied: python-dateutil>=2.7 in /home/codespace/anaconda3/lib/python3.9/site-packages (from matplotlib<4->mlflow) (2.8.2)\n",
      "Requirement already satisfied: deprecated>=1.2.6 in /home/codespace/anaconda3/lib/python3.9/site-packages (from opentelemetry-api<3,>=1.0.0->mlflow) (1.2.14)\n",
      "Requirement already satisfied: wrapt<2,>=1.10 in /home/codespace/anaconda3/lib/python3.9/site-packages (from deprecated>=1.2.6->opentelemetry-api<3,>=1.0.0->mlflow) (1.12.1)\n",
      "Requirement already satisfied: opentelemetry-semantic-conventions==0.45b0 in /home/codespace/anaconda3/lib/python3.9/site-packages (from opentelemetry-sdk<3,>=1.0.0->mlflow) (0.45b0)\n",
      "Requirement already satisfied: six>=1.5 in /home/codespace/anaconda3/lib/python3.9/site-packages (from python-dateutil>=2.7->matplotlib<4->mlflow) (1.16.0)\n",
      "Requirement already satisfied: certifi>=2017.4.17 in /home/codespace/anaconda3/lib/python3.9/site-packages (from requests<3,>=2.17.3->mlflow) (2021.10.8)\n",
      "Requirement already satisfied: idna<4,>=2.5 in /home/codespace/anaconda3/lib/python3.9/site-packages (from requests<3,>=2.17.3->mlflow) (3.3)\n",
      "Requirement already satisfied: charset-normalizer~=2.0.0 in /home/codespace/anaconda3/lib/python3.9/site-packages (from requests<3,>=2.17.3->mlflow) (2.0.4)\n",
      "Requirement already satisfied: threadpoolctl>=2.0.0 in /home/codespace/anaconda3/lib/python3.9/site-packages (from scikit-learn<2->mlflow) (2.2.0)\n",
      "Requirement already satisfied: joblib>=0.11 in /home/codespace/anaconda3/lib/python3.9/site-packages (from scikit-learn<2->mlflow) (1.1.0)\n",
      "Requirement already satisfied: greenlet!=0.4.17 in /home/codespace/anaconda3/lib/python3.9/site-packages (from sqlalchemy<3,>=1.4.0->mlflow) (1.1.1)\n"
     ]
    }
   ],
   "source": [
    "!pip install mlflow"
   ]
  },
  {
   "cell_type": "code",
   "execution_count": 5,
   "id": "ab6c1531-8def-44b5-be45-3dfb455a0511",
   "metadata": {},
   "outputs": [],
   "source": [
    "import mlflow\n",
    "import pandas as pd\n",
    "\n",
    "import os"
   ]
  },
  {
   "cell_type": "code",
   "execution_count": 6,
   "id": "b11272f6-b090-44ad-ab9f-8ef53da8c4f0",
   "metadata": {},
   "outputs": [
    {
     "data": {
      "text/plain": [
       "'2.13.0'"
      ]
     },
     "execution_count": 6,
     "metadata": {},
     "output_type": "execute_result"
    }
   ],
   "source": [
    "mlflow.__version__"
   ]
  },
  {
   "cell_type": "markdown",
   "id": "9fb0779b-7a51-4db6-90d9-a678bd5f9027",
   "metadata": {},
   "source": [
    "### Q2. Download and preprocess the data"
   ]
  },
  {
   "cell_type": "code",
   "execution_count": null,
   "id": "8eb07018-0b08-4ee1-8a84-8a41b491e3ec",
   "metadata": {},
   "outputs": [],
   "source": [
    "!python preprocess_data.py --raw_data_path /workspaces/mlops-zoomcamp-2024/02-experiment-tracking/data --dest_path ./output"
   ]
  },
  {
   "cell_type": "code",
   "execution_count": 13,
   "id": "7e9fe656-828d-44f4-a71d-0957189acb59",
   "metadata": {},
   "outputs": [
    {
     "data": {
      "text/plain": [
       "['val.pkl', 'dv.pkl', 'train.pkl', 'test.pkl']"
      ]
     },
     "execution_count": 13,
     "metadata": {},
     "output_type": "execute_result"
    }
   ],
   "source": [
    "output_dir = '/workspaces/mlops-zoomcamp-2024/02-experiment-tracking/output'\n",
    "output_list = os.listdir(output_dir)\n",
    "output_list"
   ]
  },
  {
   "cell_type": "code",
   "execution_count": 14,
   "id": "4bced5b0-e224-40ab-a95c-4fd8d9fd9fe3",
   "metadata": {},
   "outputs": [
    {
     "data": {
      "text/plain": [
       "4"
      ]
     },
     "execution_count": 14,
     "metadata": {},
     "output_type": "execute_result"
    }
   ],
   "source": [
    "len(output_list)"
   ]
  },
  {
   "cell_type": "markdown",
   "id": "006d4006-baf4-4df8-a367-8ffe84dd54a2",
   "metadata": {},
   "source": [
    "### Q3. Train a model with autolog"
   ]
  },
  {
   "cell_type": "code",
   "execution_count": 3,
   "id": "c99c7825-b5d8-4cc0-ab6f-c1f6bd897aa4",
   "metadata": {},
   "outputs": [
    {
     "name": "stdout",
     "output_type": "stream",
     "text": [
      "2024/06/15 21:57:29 WARNING mlflow.sklearn: Failed to log training dataset information to MLflow Tracking. Reason: 'numpy.ndarray' object has no attribute 'toarray'\n",
      "2024/06/15 21:57:43 WARNING mlflow.utils.autologging_utils: MLflow autologging encountered a warning: \"/home/codespace/anaconda3/lib/python3.9/site-packages/_distutils_hack/__init__.py:30: UserWarning: Setuptools is replacing distutils.\"\n",
      "RMSE: 5.431162180141208\n"
     ]
    }
   ],
   "source": [
    "!python train.py --data_path ./output"
   ]
  },
  {
   "cell_type": "code",
   "execution_count": 7,
   "id": "dbbb5d0a-986b-4f95-84fa-eb3dacc6afa1",
   "metadata": {},
   "outputs": [
    {
     "name": "stdout",
     "output_type": "stream",
     "text": [
      "Logged parameters:\n",
      "warm_start: False\n",
      "max_samples: None\n",
      "n_estimators: 100\n",
      "random_state: 0\n",
      "n_jobs: None\n",
      "oob_score: False\n",
      "min_impurity_decrease: 0.0\n",
      "verbose: 0\n",
      "max_features: auto\n",
      "min_samples_split: 2\n",
      "max_leaf_nodes: None\n",
      "max_depth: 10\n",
      "min_weight_fraction_leaf: 0.0\n",
      "ccp_alpha: 0.0\n",
      "min_samples_leaf: 1\n",
      "criterion: squared_error\n",
      "bootstrap: True\n"
     ]
    }
   ],
   "source": [
    "client = mlflow.tracking.MlflowClient()\n",
    "experiment_id = client.get_experiment_by_name(\"Default\").experiment_id\n",
    "run = client.search_runs(experiment_id, order_by=[\"start_time desc\"], max_results=1)[0]\n",
    "\n",
    "print(\"Logged parameters:\")\n",
    "for key, value in run.data.params.items():\n",
    "    print(f\"{key}: {value}\")"
   ]
  },
  {
   "cell_type": "markdown",
   "id": "605d8efb-cab4-4db4-a2b1-02f2bcdd51ed",
   "metadata": {},
   "source": [
    "### Q4. Launch the tracking server locally"
   ]
  },
  {
   "cell_type": "code",
   "execution_count": 8,
   "id": "9702443d-40d2-4954-b14d-25cc182cebee",
   "metadata": {},
   "outputs": [
    {
     "name": "stdout",
     "output_type": "stream",
     "text": [
      "/workspaces/mlops-zoomcamp-2024/02-experiment-tracking\n"
     ]
    }
   ],
   "source": [
    "!pwd"
   ]
  },
  {
   "cell_type": "code",
   "execution_count": 9,
   "id": "77a68433-f923-446e-8419-e2f98753d305",
   "metadata": {},
   "outputs": [],
   "source": [
    "!mkdir mlruns_db\n",
    "!mkdir mlruns_artifacts"
   ]
  },
  {
   "cell_type": "code",
   "execution_count": 6,
   "id": "e0e26270-7e04-42e7-babc-7423770ddb22",
   "metadata": {},
   "outputs": [
    {
     "name": "stdout",
     "output_type": "stream",
     "text": [
      "data\t\t      mlruns\t\toutput\t\t    train.py\n",
      "homework-week2.ipynb  mlruns_artifacts\tpreprocess_data.py\n",
      "hpo.py\t\t      mlruns_db\t\tregister_model.py\n"
     ]
    }
   ],
   "source": [
    "!ls"
   ]
  },
  {
   "cell_type": "code",
   "execution_count": 1,
   "id": "b534b5df-d058-43c5-96a7-062976985b17",
   "metadata": {},
   "outputs": [
    {
     "name": "stdout",
     "output_type": "stream",
     "text": [
      "[2024-06-15 23:06:52 +0000] [4717] [INFO] Starting gunicorn 22.0.0\n",
      "[2024-06-15 23:06:52 +0000] [4717] [INFO] Listening at: http://0.0.0.0:5000 (4717)\n",
      "[2024-06-15 23:06:52 +0000] [4717] [INFO] Using worker: sync\n",
      "[2024-06-15 23:06:52 +0000] [4718] [INFO] Booting worker with pid: 4718\n",
      "[2024-06-15 23:06:52 +0000] [4719] [INFO] Booting worker with pid: 4719\n",
      "[2024-06-15 23:06:52 +0000] [4720] [INFO] Booting worker with pid: 4720\n",
      "[2024-06-15 23:06:52 +0000] [4721] [INFO] Booting worker with pid: 4721\n",
      "^C\n",
      "[2024-06-15 23:11:02 +0000] [4717] [INFO] Handling signal: int\n",
      "[2024-06-15 23:11:02 +0000] [4721] [INFO] Worker exiting (pid: 4721)\n",
      "[2024-06-15 23:11:02 +0000] [4720] [INFO] Worker exiting (pid: 4720)\n",
      "[2024-06-15 23:11:02 +0000] [4718] [INFO] Worker exiting (pid: 4718)\n",
      "[2024-06-15 23:11:02 +0000] [4719] [INFO] Worker exiting (pid: 4719)\n"
     ]
    }
   ],
   "source": [
    "!mlflow server \\\n",
    "    --backend-store-uri sqlite:///mlruns_db/mlflow.db \\\n",
    "    --default-artifact-root ./mlruns_artifacts \\\n",
    "    --serve-artifacts \\\n",
    "    --host 0.0.0.0 \\\n",
    "    --port 5000"
   ]
  },
  {
   "cell_type": "markdown",
   "id": "b59b33f2-68e8-48e2-a1ef-9e637913e310",
   "metadata": {},
   "source": [
    "### Q5. Tune model hyperparameters"
   ]
  },
  {
   "cell_type": "code",
   "execution_count": 8,
   "id": "ecfd39b8-3bf3-4206-8416-feb6b8367182",
   "metadata": {},
   "outputs": [
    {
     "name": "stdout",
     "output_type": "stream",
     "text": [
      "Collecting hyperopt\n",
      "  Downloading hyperopt-0.2.7-py2.py3-none-any.whl (1.6 MB)\n",
      "\u001b[K     |████████████████████████████████| 1.6 MB 25.3 MB/s eta 0:00:01\n",
      "\u001b[?25hRequirement already satisfied: numpy in /home/codespace/anaconda3/lib/python3.9/site-packages (from hyperopt) (1.21.5)\n",
      "Requirement already satisfied: six in /home/codespace/anaconda3/lib/python3.9/site-packages (from hyperopt) (1.16.0)\n",
      "Requirement already satisfied: networkx>=2.2 in /home/codespace/anaconda3/lib/python3.9/site-packages (from hyperopt) (2.7.1)\n",
      "Requirement already satisfied: cloudpickle in /home/codespace/anaconda3/lib/python3.9/site-packages (from hyperopt) (2.0.0)\n",
      "Requirement already satisfied: tqdm in /home/codespace/anaconda3/lib/python3.9/site-packages (from hyperopt) (4.64.0)\n",
      "Requirement already satisfied: future in /home/codespace/anaconda3/lib/python3.9/site-packages (from hyperopt) (0.18.2)\n",
      "Requirement already satisfied: scipy in /home/codespace/anaconda3/lib/python3.9/site-packages (from hyperopt) (1.7.3)\n",
      "Collecting py4j\n",
      "  Downloading py4j-0.10.9.7-py2.py3-none-any.whl (200 kB)\n",
      "\u001b[K     |████████████████████████████████| 200 kB 77.9 MB/s eta 0:00:01\n",
      "\u001b[?25hInstalling collected packages: py4j, hyperopt\n",
      "Successfully installed hyperopt-0.2.7 py4j-0.10.9.7\n"
     ]
    }
   ],
   "source": [
    "!pip install hyperopt"
   ]
  },
  {
   "cell_type": "code",
   "execution_count": 10,
   "id": "b93b9041-83ea-4f7a-9293-61f426262699",
   "metadata": {},
   "outputs": [
    {
     "name": "stdout",
     "output_type": "stream",
     "text": [
      "100%|██████████| 15/15 [00:59<00:00,  3.95s/trial, best loss: 5.335419588556921]\n"
     ]
    }
   ],
   "source": [
    "!python hpo.py"
   ]
  },
  {
   "cell_type": "markdown",
   "id": "884cd125-c61b-4ae2-87bf-181681352d7a",
   "metadata": {},
   "source": [
    "### Q6. Promote the best model to the model registry"
   ]
  },
  {
   "cell_type": "code",
   "execution_count": 11,
   "id": "503b0fb8-d245-4e69-9d92-3c03cbf45f03",
   "metadata": {},
   "outputs": [
    {
     "name": "stdout",
     "output_type": "stream",
     "text": [
      "2024/06/15 23:31:52 INFO mlflow.tracking.fluent: Experiment with name 'random-forest-best-models' does not exist. Creating a new experiment.\n",
      "2024/06/15 23:31:53 WARNING mlflow.sklearn: Failed to log training dataset information to MLflow Tracking. Reason: 'numpy.ndarray' object has no attribute 'toarray'\n",
      "2024/06/15 23:31:59 WARNING mlflow.utils.autologging_utils: MLflow autologging encountered a warning: \"/home/codespace/anaconda3/lib/python3.9/site-packages/_distutils_hack/__init__.py:30: UserWarning: Setuptools is replacing distutils.\"\n",
      "2024/06/15 23:32:04 WARNING mlflow.sklearn: Failed to log training dataset information to MLflow Tracking. Reason: 'numpy.ndarray' object has no attribute 'toarray'\n",
      "2024/06/15 23:32:25 WARNING mlflow.sklearn: Failed to log training dataset information to MLflow Tracking. Reason: 'numpy.ndarray' object has no attribute 'toarray'\n",
      "2024/06/15 23:32:35 WARNING mlflow.sklearn: Failed to log training dataset information to MLflow Tracking. Reason: 'numpy.ndarray' object has no attribute 'toarray'\n",
      "2024/06/15 23:32:45 WARNING mlflow.sklearn: Failed to log training dataset information to MLflow Tracking. Reason: 'numpy.ndarray' object has no attribute 'toarray'\n",
      "Successfully registered model 'rf-best-model'.\n",
      "2024/06/15 23:32:53 INFO mlflow.store.model_registry.abstract_store: Waiting up to 300 seconds for model version to finish creation. Model name: rf-best-model, version 1\n",
      "Created version '1' of model 'rf-best-model'.\n"
     ]
    }
   ],
   "source": [
    "!python register_model.py"
   ]
  }
 ],
 "metadata": {
  "kernelspec": {
   "display_name": "Python 3 (ipykernel)",
   "language": "python",
   "name": "python3"
  },
  "language_info": {
   "codemirror_mode": {
    "name": "ipython",
    "version": 3
   },
   "file_extension": ".py",
   "mimetype": "text/x-python",
   "name": "python",
   "nbconvert_exporter": "python",
   "pygments_lexer": "ipython3",
   "version": "3.9.12"
  }
 },
 "nbformat": 4,
 "nbformat_minor": 5
}
